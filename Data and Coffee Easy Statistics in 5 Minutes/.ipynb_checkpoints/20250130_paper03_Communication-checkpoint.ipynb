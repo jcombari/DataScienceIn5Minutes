{
 "cells": [
  {
   "cell_type": "markdown",
   "id": "5af88703-fa51-4a02-acb1-eabcdaa3d19f",
   "metadata": {},
   "source": [
    "# 📊☕ Data & Coffee: Statistics Made Easy in 5 Minutes\n",
    "\n",
    "🔍 Did you know that without Shannon’s Information Theory, models like GPT wouldn’t exist?  \n",
    "Imagine feeding a text to an AI model and asking it to predict the next word. To do this effectively, it needs to understand how much uncertainty exists in the message. That’s exactly what Shannon entropy measures: the amount of information in a dataset.\n",
    "\n",
    "💡 **Real-world example**:  \n",
    "Language models like ChatGPT optimize word prediction by minimizing entropy, enabling them to generate more coherent and natural responses.\n",
    "\n",
    "🔧 **How does it work?**  \n",
    "- A text with repetitive words has low entropy → easier to predict.  \n",
    "- A text with varied words has high entropy → harder to predict.  \n",
    "By calculating entropy, models can fine-tune predictions for better accuracy.\n",
    "\n",
    "🔎 **Why does it matter?**  \n",
    "📌 **Data compression** → Used in ZIP algorithms to reduce file sizes.  \n",
    "📌 **Cryptography** → Evaluates password security by measuring unpredictability.  \n",
    "📌 **Natural Language Processing** → AI models improve word prediction by understanding entropy in text.\n",
    "\n",
    "✨ **Practical case**:  \n",
    "We’ll calculate entropy in two different texts:  \n",
    "📕 A repetitive text → low entropy  \n",
    "📗 A varied text → high entropy  \n",
    "We’ll visualize how information quantity changes in each case and its impact on language models.\n",
    "\n",
    "⚙️ **Business impact**:  \n",
    "Companies use entropy to enhance AI models, optimize storage, and strengthen system security. 🚀\n",
    "\n",
    "📖✍️ **Scientific reference**:  \n",
    "Claude E. Shannon (1948). A Mathematical Theory of Communication. Bell System Technical Journal.  \n",
    "[Link](https://ieeexplore.ieee.org/document/6773024)\n",
    "\n",
    "💭 **Reflection**:  \n",
    "How predictable do you think your texts are? How could we measure entropy in human conversations? 🤔\n",
    "\n",
    "🌍✨ AI #MachineLearning #NLP #DataScience #Shannon #InformationTheory\n",
    "\n",
    "[GitHub: Data & Coffee - Easy Statistics in 5 Minutes](https://github.com/jcombari/DataScienceIn5Minutes/tree/main/Data%20and%20Coffee%20Easy%20Statistics%20in%205%20Minutes)\n",
    "\n",
    "---\n",
    "\n",
    "# 📊☕ Datos y Café: Estadística Fácil en 5 Minutos\n",
    "\n",
    "🔍 ¿Sabías que sin la Teoría de la Información de Shannon, modelos como GPT no existirían?  \n",
    "Imagina que le das a un modelo de IA un texto y le pides que prediga la siguiente palabra. Para hacerlo bien, necesita saber cuánta incertidumbre hay en el mensaje. Eso es exactamente lo que la entropía de Shannon mide: la cantidad de información en un conjunto de datos.\n",
    "\n",
    "💡 **Ejemplo real**:  \n",
    "Los modelos de lenguaje como ChatGPT optimizan la predicción de palabras minimizando la entropía, permitiéndoles generar respuestas más coherentes y naturales.\n",
    "\n",
    "🔧 **¿Cómo funciona?**  \n",
    "- Un texto con palabras muy repetidas tiene baja entropía → más fácil de predecir.  \n",
    "- Un texto con palabras variadas tiene alta entropía → más difícil de predecir.  \n",
    "Al calcular la entropía, los modelos pueden ajustar sus predicciones para generar respuestas más precisas.\n",
    "\n",
    "🔎 **¿Por qué importa?**  \n",
    "📌 **Compresión de datos** → Se usa en algoritmos como ZIP para reducir el tamaño de archivos.  \n",
    "📌 **Criptografía** → Evalúa la seguridad de una contraseña midiendo su impredecibilidad.  \n",
    "📌 **Procesamiento de lenguaje natural** → Modelos de IA predicen mejor las palabras si entienden la entropía del texto.\n",
    "\n",
    "✨ **Caso práctico**:  \n",
    "Calcularemos la entropía en dos textos diferentes:  \n",
    "📕 Un texto repetitivo → baja entropía  \n",
    "📗 Un texto con palabras variadas → alta entropía  \n",
    "Visualizaremos cómo cambia la cantidad de información en cada caso y su impacto en modelos de lenguaje.\n",
    "\n",
    "⚙️ **Impacto en el negocio**:  \n",
    "Las empresas usan la entropía para mejorar modelos de IA, optimizar almacenamiento y fortalecer la seguridad de sus sistemas. 🚀\n",
    "\n",
    "📖✍️ **Referencia científica**:  \n",
    "Claude E. Shannon (1948). A Mathematical Theory of Communication. Bell System Technical Journal. [Link](https://ieeexplore.ieee.org/document/6773024)\n",
    "\n",
    "💭 **Reflexión**:  \n",
    "¿Qué tan predecibles crees que son tus textos? ¿Cómo podríamos medir la entropía en conversaciones humanas? 🤔\n",
    "\n",
    "🌍✨ IA #MachineLearning #NLP #CienciaDeDatos #Shannon #DataScience\n",
    "\n",
    "[GitHub: Data & Coffee - Easy Statistics in 5 Minutes](https://github.com/jcombari/DataScienceIn5Minutes/tree/main/Data%20and%20Coffee%20Easy%20Statistics%20in%205%20Minutes)\n"
   ]
  },
  {
   "cell_type": "markdown",
   "id": "d0014533-9db1-4af0-ba9c-0d20ae8bb167",
   "metadata": {},
   "source": [
    "# 🐍 Python code"
   ]
  },
  {
   "cell_type": "code",
   "execution_count": 1,
   "id": "09bada5f-613a-4d7b-accc-5e0944b26063",
   "metadata": {},
   "outputs": [
    {
     "data": {
      "image/png": "[encoded data removed]",
      "text/plain": [
       "<Figure size 600x400 with 1 Axes>"
      ]
     },
     "metadata": {},
     "output_type": "display_data"
    },
    {
     "name": "stdout",
     "output_type": "stream",
     "text": [
      "Entropy of repetitive text: 1.0000 bits\n",
      "Entropy of varied text: 3.1699 bits\n"
     ]
    }
   ],
   "source": [
    "import numpy as np\n",
    "import matplotlib.pyplot as plt\n",
    "from collections import Counter\n",
    "from scipy.stats import entropy\n",
    "\n",
    "# 📌 Example texts: one repetitive, one varied\n",
    "text_low_entropy = \"hello hello hello hello hello world world world world world\"\n",
    "text_high_entropy = \"entropy measures the uncertainty and randomness of a dataset\"\n",
    "\n",
    "# 📌 Function to calculate Shannon entropy for a given text\n",
    "def calculate_shannon_entropy(text):\n",
    "    \"\"\"\n",
    "    Computes the Shannon entropy of a given text.\n",
    "    - High entropy means high uncertainty (varied words).\n",
    "    - Low entropy means low uncertainty (repetitive words).\n",
    "    \"\"\"\n",
    "    words = text.split()  # Split text into words\n",
    "    word_counts = Counter(words)  # Count occurrences of each word\n",
    "    probabilities = np.array(list(word_counts.values())) / sum(word_counts.values())  # Compute probabilities\n",
    "    return entropy(probabilities, base=2)  # Compute entropy in bits\n",
    "\n",
    "# 📌 Compute entropy for both texts\n",
    "entropy_low = calculate_shannon_entropy(text_low_entropy)\n",
    "entropy_high = calculate_shannon_entropy(text_high_entropy)\n",
    "\n",
    "# 📊 Plot the results\n",
    "labels = [\"Repetitive Text\", \"Varied Text\"]\n",
    "values = [entropy_low, entropy_high]\n",
    "\n",
    "plt.figure(figsize=(6,4))\n",
    "plt.bar(labels, values, color=['red', 'green'])\n",
    "plt.ylabel(\"Shannon Entropy (bits)\")\n",
    "plt.title(\"Entropy Comparison in Different Texts\")\n",
    "plt.show()\n",
    "\n",
    "# 🔍 Display numerical results\n",
    "print(f\"Entropy of repetitive text: {entropy_low:.4f} bits\")\n",
    "print(f\"Entropy of varied text: {entropy_high:.4f} bits\")\n"
   ]
  }
 ],
 "metadata": {
  "kernelspec": {
   "display_name": "Python 3 (ipykernel)",
   "language": "python",
   "name": "python3"
  },
  "language_info": {
   "codemirror_mode": {
    "name": "ipython",
    "version": 3
   },
   "file_extension": ".py",
   "mimetype": "text/x-python",
   "name": "python",
   "nbconvert_exporter": "python",
   "pygments_lexer": "ipython3",
   "version": "3.12.3"
  }
 },
 "nbformat": 4,
 "nbformat_minor": 5
}
