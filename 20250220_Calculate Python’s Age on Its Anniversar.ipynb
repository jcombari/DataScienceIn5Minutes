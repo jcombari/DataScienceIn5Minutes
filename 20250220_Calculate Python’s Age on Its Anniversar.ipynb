{
 "cells": [
  {
   "cell_type": "markdown",
   "id": "d1c9b50a-da6a-4918-8a21-38c0181af774",
   "metadata": {},
   "source": [
    "# 🔗🐍📊 Bridging Python & R: Seamless Data Science in 5 Minutes  \n",
    "\n",
    "## 🐍📘📊 Python | R: Calculate Python’s Age on Its Anniversary  \n",
    "\n",
    "🎉 Happy Birthday, Python! Today we celebrate a milestone in the programming world. But how can we calculate Python's exact age since its launch in 1991? 📅  \n",
    "\n",
    "## 👉 Solution  \n",
    "To accurately calculate ages in Python and R, we use `relativedelta` in Python and `lubridate` in R.  \n",
    "\n",
    "## 🔧 How does it work?  \n",
    "These tools help compute the exact difference between dates, considering years, months, and days.  \n",
    "\n",
    "## 🔎 Why does it matter?  \n",
    "- 📌 Cohort analysis to understand customer behavior over time.  \n",
    "- 📌 HR analytics to calculate employee tenure.  \n",
    "- 📌 Data science for modeling time-based trends.  \n",
    "\n",
    "## ✨ Real-world example  \n",
    "Imagine a company analyzing how long customers have stayed since their first purchase. This technique allows precise calculations.  \n",
    "\n",
    "## ⚙️ Business impact  \n",
    "✅ More accurate customer segmentation.  \n",
    "✅ Improved predictive retention models.  \n",
    "✅ Better loyalty strategies.  \n",
    "\n",
    "## 📊 Summary of the code  \n",
    "- 🔹 Define Python's launch date.  \n",
    "- 🔹 Calculate its exact age in years, months, and days.  \n",
    "- 🔹 Display the result.  \n",
    "\n",
    "## 💭 Reflection  \n",
    "Time flies ⏳, but Python keeps evolving and shaping technology. How do you use date manipulation in your projects? 🚀  \n",
    "\n",
    "📌 GitHub: [DataScienceIn5Minutes](https://github.com/jcombari/DataScienceIn5Minutes)  \n",
    "\n",
    "🔑 **#DataScience #Python #RStats #MachineLearning #AI #BigData #Analytics #Programming #Tech #DataVisualization**  \n",
    "\n",
    "---\n",
    "# 🐍📊 Conectando Python y R: Ciencia de Datos sin Fronteras en 5 Minutos  \n",
    "\n",
    "## 🐍📘📊 Python | R: Calcula la edad de Python en su aniversario  \n",
    "\n",
    "🎉 ¡Feliz cumpleaños, Python! Hoy celebramos un hito en el mundo de la programación. Pero, ¿cómo podemos calcular la edad exacta de Python desde su lanzamiento en 1991? 📅  \n",
    "\n",
    "## 👉 Solución  \n",
    "Para calcular edades con precisión en Python y R, usamos `relativedelta` en Python y `lubridate` en R.  \n",
    "\n",
    "## 🔧 ¿Cómo funciona?  \n",
    "Estas herramientas permiten calcular la diferencia exacta entre fechas considerando años, meses y días.  \n",
    "\n",
    "## 🔎 ¿Por qué importa?  \n",
    "- 📌 En análisis de cohortes para entender el comportamiento de clientes en el tiempo.  \n",
    "- 📌 En RR.HH. para calcular antigüedad de empleados.  \n",
    "- 📌 En ciencia de datos para modelar tendencias temporales.  \n",
    "\n",
    "## ✨ Ejemplo real o Caso práctico  \n",
    "Imagina que una empresa quiere analizar cuánto tiempo han permanecido sus clientes desde su primera compra. Con esta técnica, puedes calcularlo de forma precisa.  \n",
    "\n",
    "## ⚙️ Impacto en el negocio  \n",
    "✅ Segmentación de clientes más precisa.  \n",
    "✅ Modelos predictivos de retención más efectivos.  \n",
    "✅ Mejora en estrategias de fidelización.  \n",
    "\n",
    "## 📊 Resumen de qué se hace en el código  \n",
    "- 🔹 Definimos la fecha de lanzamiento de Python.  \n",
    "- 🔹 Calculamos su edad exacta en años, meses y días.  \n",
    "- 🔹 Mostramos el resultado.  \n",
    "\n",
    "## 💭 Reflexión  \n",
    "El tiempo pasa volando ⏳, pero Python sigue evolucionando y revolucionando la tecnología. ¿Cómo usas la manipulación de fechas en tus proyectos? 🚀  \n",
    "\n",
    "📌 GitHub: [DataScienceIn5Minutes](https://github.com/jcombari/DataScienceIn5Minutes)  \n",
    "\n",
    "🔑 **#DataScience #Python #RStats #MachineLearning #AI #BigData #Analytics #Programming #Tech #DataVisualization**  \n",
    "\n"
   ]
  },
  {
   "cell_type": "markdown",
   "id": "72924a30-2506-4405-a509-251e9cb6b1fd",
   "metadata": {},
   "source": [
    "# 🐍 Python Code"
   ]
  },
  {
   "cell_type": "code",
   "execution_count": 1,
   "id": "aad4bbac-cf9d-4956-ba8c-a45928bdf694",
   "metadata": {},
   "outputs": [
    {
     "name": "stdout",
     "output_type": "stream",
     "text": [
      "\n",
      "==================================================\n",
      "          🎉🎂  HAPPY BIRTHDAY, PYTHON! 🐍🎂          \n",
      "==================================================\n",
      "\n",
      "Python is 34 years, 0 months, and 0 days old.\n",
      "\n",
      "==================================================\n"
     ]
    }
   ],
   "source": [
    "from datetime import datetime\n",
    "from dateutil.relativedelta import relativedelta\n",
    "\n",
    "# Define Python's release date\n",
    "release_date = datetime(1991, 2, 20)\n",
    "\n",
    "# Get the current date\n",
    "current_date = datetime.today()\n",
    "\n",
    "# Calculate the exact difference in years, months, and days\n",
    "age = relativedelta(current_date, release_date)\n",
    "\n",
    "# Print the result with a large and bold Happy Birthday message\n",
    "print(\"\\n\" + \"=\"*50)\n",
    "print(\"🎉🎂  HAPPY BIRTHDAY, PYTHON! 🐍🎂\".center(50))\n",
    "print(\"=\"*50)\n",
    "print(f\"\\nPython is {age.years} years, {age.months} months, and {age.days} days old.\\n\")\n",
    "print(\"=\"*50)\n"
   ]
  },
  {
   "cell_type": "markdown",
   "id": "d3a6f5eb-b16b-4329-bf05-568100d43cb3",
   "metadata": {},
   "source": [
    "# 📘 R Code"
   ]
  },
  {
   "cell_type": "code",
   "execution_count": 3,
   "id": "2329528f-bc9a-427c-9f0e-a71634d2d353",
   "metadata": {},
   "outputs": [
    {
     "name": "stdout",
     "output_type": "stream",
     "text": [
      "\n",
      "==================================================\n",
      "🎉🎂  HAPPY BIRTHDAY, PYTHON! 🐍🎂\n",
      "==================================================\n",
      "\n",
      "Python is 34 years, 0 months, and 0 days old.\n",
      "================================================== \n"
     ]
    }
   ],
   "source": [
    "library(lubridate)\n",
    "\n",
    "# Define Python's release date\n",
    "release_date <- ymd(\"1991-02-20\")\n",
    "\n",
    "# Get the current date\n",
    "current_date <- today()\n",
    "\n",
    "# Calculate the exact difference in years, months, and days\n",
    "age <- interval(release_date, current_date) %/% years(1)\n",
    "months <- interval(release_date, current_date) %% years(1) %/% months(1)\n",
    "days <- interval(release_date, current_date) %% years(1) %% months(1) %/% days(1)\n",
    "\n",
    "# Print the result with a large and bold Happy Birthday message\n",
    "cat(\"\\n\", strrep(\"=\", 50), \"\\n\", sep = \"\")\n",
    "cat(\"🎉🎂  HAPPY BIRTHDAY, PYTHON! 🐍🎂\\n\", sep = \"\")\n",
    "cat(strrep(\"=\", 50), \"\\n\", sep = \"\")\n",
    "cat(\"\\nPython is\", age, \"years,\", months, \"months, and\", days, \"days old.\\n\")\n",
    "cat(strrep(\"=\", 50), \"\\n\")\n"
   ]
  },
  {
   "cell_type": "code",
   "execution_count": null,
   "id": "13d00cdb-f6c9-4c88-a608-c475d4930a85",
   "metadata": {},
   "outputs": [],
   "source": []
  }
 ],
 "metadata": {
  "kernelspec": {
   "display_name": "Python 3 (ipykernel)",
   "language": "python",
   "name": "python3"
  },
  "language_info": {
   "codemirror_mode": {
    "name": "ipython",
    "version": 3
   },
   "file_extension": ".py",
   "mimetype": "text/x-python",
   "name": "python",
   "nbconvert_exporter": "python",
   "pygments_lexer": "ipython3",
   "version": "3.12.3"
  }
 },
 "nbformat": 4,
 "nbformat_minor": 5
}
