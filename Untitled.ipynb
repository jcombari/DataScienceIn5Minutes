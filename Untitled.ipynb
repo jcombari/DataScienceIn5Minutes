{
 "cells": [
  {
   "cell_type": "code",
   "execution_count": 2,
   "id": "4202ba29-f725-43cd-8397-264424a16b32",
   "metadata": {},
   "outputs": [
    {
     "name": "stdout",
     "output_type": "stream",
     "text": [
      "Python is 34 years, 0 months, and 0 days old.\n"
     ]
    }
   ],
   "source": [
    "from datetime import datetime\n",
    "from dateutil.relativedelta import relativedelta\n",
    "\n",
    "# Define Python's birthdate\n",
    "python_birthdate = datetime(1991, 2, 20)\n",
    "\n",
    "# Get today's date\n",
    "today = datetime.today()\n",
    "\n",
    "# Calculate Python's age using relativedelta\n",
    "python_age = relativedelta(today, python_birthdate)\n",
    "\n",
    "# Display the result\n",
    "print(f\"Python is {python_age.years} years, {python_age.months} months, and {python_age.days} days old.\")\n"
   ]
  },
  {
   "cell_type": "code",
   "execution_count": 5,
   "id": "29643c87-fc08-4488-ba85-edb87c7a0cd5",
   "metadata": {},
   "outputs": [
    {
     "name": "stdout",
     "output_type": "stream",
     "text": [
      "Python is 34 years, 0 months, and 0 days old.\n"
     ]
    }
   ],
   "source": [
    "# Load the necessary library\n",
    "library(lubridate)\n",
    "suppressPackageStartupMessages(library(lubridate))\n",
    "\n",
    "\n",
    "# Define Python's birthdate\n",
    "python_birthdate <- ymd(\"1991-02-20\")\n",
    "\n",
    "# Get today's date\n",
    "today <- Sys.Date()\n",
    "\n",
    "# Calculate Python's age\n",
    "python_age <- as.period(interval(start = python_birthdate, end = today))\n",
    "\n",
    "# Display the result\n",
    "cat(\"Python is\", python_age@year, \"years,\", python_age@month, \"months, and\", python_age@day, \"days old.\\n\")\n"
   ]
  }
 ],
 "metadata": {
  "kernelspec": {
   "display_name": "R",
   "language": "R",
   "name": "ir"
  },
  "language_info": {
   "codemirror_mode": "r",
   "file_extension": ".r",
   "mimetype": "text/x-r-source",
   "name": "R",
   "pygments_lexer": "r",
   "version": "4.4.2"
  }
 },
 "nbformat": 4,
 "nbformat_minor": 5
}
